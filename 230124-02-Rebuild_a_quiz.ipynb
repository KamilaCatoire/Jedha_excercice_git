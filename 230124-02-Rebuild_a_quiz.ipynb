{
 "cells": [
  {
   "cell_type": "markdown",
   "metadata": {},
   "source": [
    "# Build a quiz - Part 2"
   ]
  },
  {
   "cell_type": "markdown",
   "metadata": {},
   "source": [
    "Below is the code we wrote yesterday, that asks three questions to the user and allows up to 3 wrong answers :"
   ]
  },
  {
   "cell_type": "code",
   "execution_count": 1,
   "metadata": {},
   "outputs": [
    {
     "name": "stdout",
     "output_type": "stream",
     "text": [
      "This is our quiz, you have three lifes !\n",
      "Too bad! that is not the correct answer. You have 2 life(s)\n",
      "Too bad! that is not the correct answer. You have 1 life(s)\n",
      "Good job! You won a quiz !\n"
     ]
    }
   ],
   "source": [
    "nb_de_chances = 3\n",
    "\n",
    "\n",
    "\n",
    "print(\"This is our quiz, you have three lifes !\")\n",
    "\n",
    "if nb_de_chances > 0:\n",
    "    question1= input(\"What is a capital of France ? \")\n",
    "    while question1 != \"paris\":\n",
    "        nb_de_chances -= 1\n",
    "        print(\"Too bad! that is not the correct answer. You have {} life(s)\".format(nb_de_chances))\n",
    "        if nb_de_chances == 0:\n",
    "            print(\"Oh no ! You lost a quiz...\")\n",
    "            break\n",
    "        question1 = input(\"What is a capital of France ? \")\n",
    "\n",
    "if nb_de_chances > 0:\n",
    "    question2 = input(\"When Apple was created? \")\n",
    "    while question2 != \"1976\":\n",
    "        nb_de_chances -=1\n",
    "        print(\"Too bad! that is not the correct answer. You have {} life(s)\".format(nb_de_chances))\n",
    "        if nb_de_chances == 0:\n",
    "            print(\"Oh no ! You lost a quiz...\")\n",
    "            break\n",
    "        question2 = input(\"When Apple was created ? \")\n",
    "\n",
    "\n",
    "if nb_de_chances > 0:\n",
    "    question3 = input(\"Who created SpaceX ? \")\n",
    "    question3 = question3.lower()\n",
    "    while question3 != \"elon musk\":\n",
    "        nb_de_chances -=1\n",
    "        print(\"Too bad! that is not the correct answer. You have {} life(s)\".format(nb_de_chances))\n",
    "        if nb_de_chances == 0:\n",
    "            print(\"Oh no ! You lost a quiz...\")\n",
    "            break\n",
    "        question3 = input(\"Who created SpaceX ? \")\n",
    "        question3 = question3.lower()\n",
    "\n",
    "if nb_de_chances > 0:\n",
    "    print(\"Good job! You won a quiz !\")\n"
   ]
  },
  {
   "cell_type": "markdown",
   "metadata": {},
   "source": [
    "Let's refactor our quiz now that we know how to be dry.\n",
    "\n",
    "SPECs: \n",
    "\n",
    "* Your code should be DRY \n",
    "* You should use functions "
   ]
  },
  {
   "cell_type": "code",
   "execution_count": null,
   "metadata": {},
   "outputs": [],
   "source": [
    "class my_quiz:\n",
    "    \n",
    "nb_de_chances = 3\n",
    "\n",
    "print(\"This is our quiz, you have three lifes !\")\n",
    "\n",
    "if nb_de_chances > 0:\n",
    "    question1= input(\"What is a capital of France ? \")\n",
    "    while question1 != \"paris\":\n",
    "        nb_de_chances -= 1\n",
    "        print(\"Too bad! that is not the correct answer. You have {} life(s)\".format(nb_de_chances))\n",
    "        if nb_de_chances == 0:\n",
    "            print(\"Oh no ! You lost a quiz...\")\n",
    "            break\n",
    "        question1 = input(\"What is a capital of France ? \")\n",
    "\n",
    "if nb_de_chances > 0:\n",
    "    question2 = input(\"When Apple was created? \")\n",
    "    while question2 != \"1976\":\n",
    "        nb_de_chances -=1\n",
    "        print(\"Too bad! that is not the correct answer. You have {} life(s)\".format(nb_de_chances))\n",
    "        if nb_de_chances == 0:\n",
    "            print(\"Oh no ! You lost a quiz...\")\n",
    "            break\n",
    "        question2 = input(\"When Apple was created ? \")\n",
    "\n",
    "\n",
    "if nb_de_chances > 0:\n",
    "    question3 = input(\"Who created SpaceX ? \")\n",
    "    question3 = question3.lower()\n",
    "    while question3 != \"elon musk\":\n",
    "        nb_de_chances -=1\n",
    "        print(\"Too bad! that is not the correct answer. You have {} life(s)\".format(nb_de_chances))\n",
    "        if nb_de_chances == 0:\n",
    "            print(\"Oh no ! You lost a quiz...\")\n",
    "            break\n",
    "        question3 = input(\"Who created SpaceX ? \")\n",
    "        question3 = question3.lower()\n",
    "\n",
    "if nb_de_chances > 0:\n",
    "    print(\"Good job! You won a quiz !\")"
   ]
  }
 ],
 "metadata": {
  "kernelspec": {
   "display_name": "base",
   "language": "python",
   "name": "python3"
  },
  "language_info": {
   "codemirror_mode": {
    "name": "ipython",
    "version": 3
   },
   "file_extension": ".py",
   "mimetype": "text/x-python",
   "name": "python",
   "nbconvert_exporter": "python",
   "pygments_lexer": "ipython3",
   "version": "3.9.12"
  },
  "orig_nbformat": 2,
  "vscode": {
   "interpreter": {
    "hash": "5a782e78c516a0591e27701d1f830b917a27108ff0d49951d1f9790dfad5ff2a"
   }
  }
 },
 "nbformat": 4,
 "nbformat_minor": 2
}
